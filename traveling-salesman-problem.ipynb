{
 "cells": [
  {
   "cell_type": "markdown",
   "id": "58b98da4",
   "metadata": {},
   "source": [
    "# Rozwiązywanie problemu komiwojażera (Traveling salesman problem)"
   ]
  },
  {
   "cell_type": "markdown",
   "id": "f7a8ec2a",
   "metadata": {},
   "source": [
    "Nazwa pochodzi od typowej ilustracji problemu, przedstawiającej go z punktu widzenia wędrownego sprzedawcy (komiwojażera): dane jest n miast, które komiwojażer ma odwiedzić, oraz odległość / cena podróży / czas podróży pomiędzy każdą parą miast. Celem jest znalezienie najkrótszej / najtańszej / najszybszej drogi łączącej wszystkie miasta, zaczynającej się i kończącej się w określonym punkcie (https://pl.wikipedia.org/wiki/Problem_komiwoja%C5%BCera)"
   ]
  },
  {
   "cell_type": "code",
   "execution_count": 1,
   "id": "3b65b910",
   "metadata": {},
   "outputs": [],
   "source": [
    "import numpy as np\n",
    "import math\n",
    "import random\n",
    "import time\n",
    "import matplotlib.pyplot as plt\n",
    "from tabulate import tabulate\n",
    "from graphviz import Graph\n",
    "\n",
    "from scipy.spatial.distance import cityblock\n",
    "from scipy.spatial.distance import chebyshev\n",
    "\n",
    "import pygad\n",
    "\n",
    "import pyswarms as ps\n",
    "from pyswarms.utils.functions import single_obj as fx\n",
    "from pyswarms.utils.plotters import plot_cost_history\n"
   ]
  },
  {
   "cell_type": "markdown",
   "id": "0bc6ba19",
   "metadata": {},
   "source": [
    "Do mierzenia odległości między puntami użyjemy metryki euklidesowej obliczanej za pomocą wzoru\n",
    "$ d(a,b) = \\sqrt{ (a_{1}-b_{1})^{2} + \\ldots + (a_{n}-b_{n})^{2} } $ (https://pl.wikipedia.org/wiki/Przestrze%C5%84_euklidesowa#Definicja_metryki_euklidesowej)."
   ]
  },
  {
   "cell_type": "code",
   "execution_count": 2,
   "id": "8ba93bf0",
   "metadata": {},
   "outputs": [],
   "source": [
    "def metryka_euklidesowa(a, b):\n",
    "    return np.linalg.norm(a - b)"
   ]
  },
  {
   "cell_type": "markdown",
   "id": "fd16561e",
   "metadata": {},
   "source": [
    "## Algorytm genetyczny (Genetic algorithm)"
   ]
  },
  {
   "cell_type": "markdown",
   "id": "7f47a3d5",
   "metadata": {},
   "source": [
    "Zaczniemy od próby rozwiązania tego problemu za pomocą algorytmu genetycznego (https://pl.wikipedia.org/wiki/Algorytm_genetyczny). Do uruchomienia tego algorytmu użyjemy paczki PyGen (https://pygen.readthedocs.io/en/latest/). \n",
    "\n",
    "Rozwiązania podane przez algorytm będą listą indeksów miejsc uporządkowaną w kolejności, w jakiej będziemy je odwiedzać. Ważnym parametrem jest allow_duplicate_genes=False, który zapewni nam brak powtórzeń w rozwiązaniu, to znaczy, nie będziemy odwiedzać miejsc kilkukrotnie. Funkcja fitness_euklid będzie mierzyć łączną odległość między punktami w zadanej kolejności, zaczynając i kończąc w punkcie start. Zwracamy wartość tej odległości pomnożoną przez -1, ponieważ algorytm szuka maksimum a my chcemy odnaleźć jak najkrótszą drogę. Stworzymy listę lokacji długości 10 złożoną z losowych współrzędnych x i y, a jako punkt startowy wybierzemy (0,0)."
   ]
  },
  {
   "cell_type": "code",
   "execution_count": 3,
   "id": "929697c1",
   "metadata": {},
   "outputs": [],
   "source": [
    "def fitness_euklid(solution, solution_idx):\n",
    "    sol = [int(i) for i in solution]\n",
    "    droga = metryka_euklidesowa(start, np.array((lokacje[sol[0]][0], lokacje[sol[0]][1])))\n",
    "\n",
    "    for i in range(1, len(solution)):\n",
    "        prev = np.array((lokacje[sol[i-1]][0], lokacje[sol[i-1]][1]))\n",
    "        now = np.array((lokacje[sol[i]][0], lokacje[sol[i]][1]))\n",
    "        droga = droga + metryka_euklidesowa(now, prev)\n",
    "    \n",
    "    droga = droga + metryka_euklidesowa(now, start)\n",
    "    \n",
    "    return -droga"
   ]
  },
  {
   "cell_type": "code",
   "execution_count": 4,
   "id": "4ce6d7bb",
   "metadata": {},
   "outputs": [
    {
     "data": {
      "text/plain": [
       "[(9, 37),\n",
       " (45, 30),\n",
       " (22, 29),\n",
       " (1, 40),\n",
       " (7, 12),\n",
       " (25, 13),\n",
       " (24, 12),\n",
       " (43, 13),\n",
       " (38, 31),\n",
       " (35, 22)]"
      ]
     },
     "execution_count": 4,
     "metadata": {},
     "output_type": "execute_result"
    }
   ],
   "source": [
    "x = [random.randint(0,50) for a in range(10)]\n",
    "y = [random.randint(0,50) for a in range(10)]\n",
    "lokacje = list(zip(x, y))\n",
    "start = [0,0]\n",
    "lokacje"
   ]
  },
  {
   "cell_type": "code",
   "execution_count": 5,
   "id": "33639111",
   "metadata": {},
   "outputs": [
    {
     "name": "stdout",
     "output_type": "stream",
     "text": [
      "Parameters of the best solution : [3. 0. 2. 9. 8. 1. 7. 5. 6. 4.]\n",
      "Fitness value of the best solution = -162.567463488327\n",
      "TIME:  0.8497564792633057\n"
     ]
    },
    {
     "data": {
      "image/png": "[encoded data removed]",
      "text/plain": [
       "<Figure size 432x288 with 1 Axes>"
      ]
     },
     "metadata": {
      "needs_background": "light"
     },
     "output_type": "display_data"
    },
    {
     "data": {
      "image/png": "[encoded data removed]",
      "text/plain": [
       "<Figure size 432x288 with 1 Axes>"
      ]
     },
     "execution_count": 5,
     "metadata": {},
     "output_type": "execute_result"
    }
   ],
   "source": [
    "gs = [i for i in range(len(lokacje))]\n",
    "\n",
    "ga_instance = pygad.GA(gene_space = gs,\n",
    "                        num_generations = 100,\n",
    "                        num_parents_mating = 5,\n",
    "                        fitness_func = fitness_euklid,\n",
    "                        sol_per_pop = 60,\n",
    "                        num_genes = len(lokacje),\n",
    "                        parent_selection_type = \"sss\",\n",
    "                        keep_parents = 2,\n",
    "                        crossover_type = \"single_point\",\n",
    "                        mutation_type='random',\n",
    "                        mutation_percent_genes=10,\n",
    "                        allow_duplicate_genes=False)\n",
    "\n",
    "start_time = time.time()\n",
    "ga_instance.run()\n",
    "end_time = time.time()\n",
    "\n",
    "solution, solution_fitness, solution_idx = ga_instance.best_solution()\n",
    "print(\"Parameters of the best solution : {solution}\".format(solution=solution))\n",
    "print(\"Fitness value of the best solution = {solution_fitness}\".format(solution_fitness=solution_fitness))\n",
    "print(\"TIME: \", end_time-start_time)\n",
    "ga_instance.plot_fitness()"
   ]
  },
  {
   "cell_type": "markdown",
   "id": "45c658c8",
   "metadata": {},
   "source": [
    "Sprawdzimy, jak wydłuża się czas działania algorytmu genetycznego w zależności od liczby miejsc, które musimy odwiedzić. "
   ]
  },
  {
   "cell_type": "code",
   "execution_count": 6,
   "id": "76daa099",
   "metadata": {},
   "outputs": [],
   "source": [
    "czas = []\n",
    "\n",
    "for i in range(5, 31):\n",
    "    t = []\n",
    "    for j in range(10):\n",
    "        x = [random.randint(0,50) for a in range(i)]\n",
    "        y = [random.randint(0,50) for a in range(i)]\n",
    "        lokacje = list(zip(x, y))\n",
    "        start = [0,0]\n",
    "\n",
    "        gs = [i for i in range(len(lokacje))]\n",
    "\n",
    "        ga_instance = pygad.GA(gene_space = gs,\n",
    "                                num_generations = 1500,\n",
    "                                num_parents_mating = 5,\n",
    "                                fitness_func = fitness_euklid,\n",
    "                                sol_per_pop = 50,\n",
    "                                num_genes = len(lokacje),\n",
    "                                parent_selection_type = \"sss\",\n",
    "                                keep_parents = 2,\n",
    "                                crossover_type = \"single_point\",\n",
    "                                mutation_type='random',\n",
    "                                mutation_num_genes=1, \n",
    "                                allow_duplicate_genes=False,\n",
    "                                stop_criteria='saturate_150')\n",
    "\n",
    "        start_time = time.time()\n",
    "        ga_instance.run()\n",
    "        end_time = time.time()\n",
    "        \n",
    "        t.append(end_time - start_time)\n",
    "    \n",
    "    czas.append(np.mean(t))"
   ]
  },
  {
   "cell_type": "code",
   "execution_count": 7,
   "id": "b5550e13",
   "metadata": {},
   "outputs": [
    {
     "data": {
      "image/png": "[encoded data removed]",
      "text/plain": [
       "<Figure size 864x432 with 1 Axes>"
      ]
     },
     "metadata": {
      "needs_background": "light"
     },
     "output_type": "display_data"
    }
   ],
   "source": [
    "plt.figure(figsize=[12,6])\n",
    "plt.plot([i for i in range(5, 31)], czas)\n",
    "plt.title('Zależność czasu od liczby lokacji')\n",
    "plt.xlabel('liczba lokacji')\n",
    "plt.ylabel('czas')\n",
    "plt.xticks([i for i in range(5,31)])\n",
    "plt.show()"
   ]
  },
  {
   "cell_type": "markdown",
   "id": "8fa2c08d",
   "metadata": {},
   "source": [
    "Widzimy, że czas zauważalnie wydłuża się przy większej liczbie lokacji."
   ]
  },
  {
   "cell_type": "markdown",
   "id": "e2b60e0e",
   "metadata": {},
   "source": [
    "## Metryki"
   ]
  },
  {
   "cell_type": "markdown",
   "id": "626c070d",
   "metadata": {},
   "source": [
    "Do mierzenia odległości między punktami możemy użyć również innych metryk, nie tylko euklidesowej. Metryka miejska (lub Manhattan, taksówkarza) to metryka, w której odległość między dwoma punktami jest sumą bezwzględnych różnic ich współrzędnych kartezjańskich $ d(a,b) = \\sum_{i=1}^{n} |a_{i}-b_{i}|$ (https://en.wikipedia.org/wiki/Taxicab_geometry). W Pythonie do obliczenia tej metryki mozemy użyć funckji cityblock (https://docs.scipy.org/doc/scipy/reference/generated/scipy.spatial.distance.cityblock.html). Sprawdzimy, czy średni czas działania algorytmu genetycznego różni się w zależności od wybranej metryki."
   ]
  },
  {
   "cell_type": "code",
   "execution_count": 8,
   "id": "b4af5fc3",
   "metadata": {},
   "outputs": [],
   "source": [
    "def fitness_cityblock(solution, solution_idx):\n",
    "    sol = [int(i) for i in solution]\n",
    "    \n",
    "    droga = cityblock(start, np.array((lokacje[sol[0]][0], lokacje[sol[0]][1])))\n",
    "    \n",
    "    for i in range(1, len(solution)):\n",
    "        prev = np.array((lokacje[sol[i-1]][0], lokacje[sol[i-1]][1]))\n",
    "        now = np.array((lokacje[sol[i]][0], lokacje[sol[i]][1]))\n",
    "        droga = droga + cityblock(now, prev)\n",
    "    \n",
    "    droga = droga + cityblock(now, start)\n",
    "    \n",
    "    return -droga"
   ]
  },
  {
   "cell_type": "markdown",
   "id": "f69ce8ff",
   "metadata": {},
   "source": [
    "Metryka maksimum, zwana także metryką nieskończoność, maksimum, Czebyszewa, szachową, jest określona za pomocą wzoru\n",
    "$ d(a,b) = \\max_{i} |a_{i} - b_{i}| $ (https://pl.wikipedia.org/wiki/Odleg%C5%82o%C5%9B%C4%87_Czebyszewa). \n",
    "W szachach jest to odległość między polami szachownicy wyrażona w ruchach, które musi wykonać figura króla. Stąd pochodzi jej angielska nazwa chessboard distance. W Pythonie do obliczenia tej metryki mozemy użyć funckji chebyshev (https://docs.scipy.org/doc/scipy/reference/generated/scipy.spatial.distance.chebyshev.html#scipy.spatial.distance.chebyshev) "
   ]
  },
  {
   "cell_type": "code",
   "execution_count": 9,
   "id": "a16ccb7c",
   "metadata": {},
   "outputs": [],
   "source": [
    "def fitness_chebyshev(solution, solution_idx):\n",
    "    sol = [int(i) for i in solution]\n",
    "    \n",
    "    droga = chebyshev(start, np.array((lokacje[sol[0]][0], lokacje[sol[0]][1])))\n",
    "    \n",
    "    for i in range(1, len(solution)):\n",
    "        prev = np.array((lokacje[sol[i-1]][0], lokacje[sol[i-1]][1]))\n",
    "        now = np.array((lokacje[sol[i]][0], lokacje[sol[i]][1]))\n",
    "        droga = droga + chebyshev(now, prev)\n",
    "    \n",
    "    droga = droga + chebyshev(now, start)\n",
    "    \n",
    "    return -droga"
   ]
  },
  {
   "cell_type": "code",
   "execution_count": 10,
   "id": "af852680",
   "metadata": {},
   "outputs": [],
   "source": [
    "x = [random.randint(0,50) for a in range(15)]\n",
    "y = [random.randint(0,50) for a in range(15)]\n",
    "lokacje = list(zip(x, y))\n",
    "start = [0,0]\n",
    "gs = [i for i in range(len(lokacje))]"
   ]
  },
  {
   "cell_type": "code",
   "execution_count": 11,
   "id": "f812c1c9",
   "metadata": {},
   "outputs": [],
   "source": [
    "czas_euc = []\n",
    "czas_cb = []\n",
    "czas_cheb =[]\n",
    "\n",
    "for i in range(10):\n",
    "    ga_instance = pygad.GA(gene_space = gs,\n",
    "                            num_generations = 1000,\n",
    "                            num_parents_mating = 5,\n",
    "                            fitness_func = fitness_euklid,\n",
    "                            sol_per_pop = 100,\n",
    "                            num_genes = len(lokacje),\n",
    "                            parent_selection_type = \"sss\",\n",
    "                            keep_parents = 2,\n",
    "                            crossover_type = \"single_point\",\n",
    "                            mutation_type='random',\n",
    "                            mutation_percent_genes=7,\n",
    "                            allow_duplicate_genes=False,\n",
    "                            stop_criteria='saturate_100')\n",
    "\n",
    "    start_time = time.time()\n",
    "    ga_instance.run()\n",
    "    end_time = time.time()\n",
    "    solution, solution_fitness, solution_idx = ga_instance.best_solution()\n",
    "    czas_euc.append(end_time - start_time)\n",
    "    \n",
    "    ga_instance = pygad.GA(gene_space = gs,\n",
    "                            num_generations = 1000,\n",
    "                            num_parents_mating = 5,\n",
    "                            fitness_func = fitness_cityblock,\n",
    "                            sol_per_pop = 100,\n",
    "                            num_genes = len(lokacje),\n",
    "                            parent_selection_type = \"sss\",\n",
    "                            keep_parents = 2,\n",
    "                            crossover_type = \"single_point\",\n",
    "                            mutation_type='random',\n",
    "                            mutation_percent_genes=7,\n",
    "                            allow_duplicate_genes=False,\n",
    "                            stop_criteria='saturate_100')\n",
    "\n",
    "    start_time = time.time()\n",
    "    ga_instance.run()\n",
    "    end_time = time.time()\n",
    "    solution, solution_fitness, solution_idx = ga_instance.best_solution()\n",
    "    czas_cb.append(end_time - start_time)\n",
    "    \n",
    "    ga_instance = pygad.GA(gene_space = gs,\n",
    "                            num_generations = 1000,\n",
    "                            num_parents_mating = 5,\n",
    "                            fitness_func = fitness_chebyshev,\n",
    "                            sol_per_pop = 100,\n",
    "                            num_genes = len(lokacje),\n",
    "                            parent_selection_type = \"sss\",\n",
    "                            keep_parents = 2,\n",
    "                            crossover_type = \"single_point\",\n",
    "                            mutation_type='random',\n",
    "                            mutation_percent_genes=7,\n",
    "                            allow_duplicate_genes=False,\n",
    "                            stop_criteria='saturate_100')\n",
    "\n",
    "    start_time = time.time()\n",
    "    ga_instance.run()\n",
    "    end_time = time.time()\n",
    "    solution, solution_fitness, solution_idx = ga_instance.best_solution()\n",
    "    czas_cheb.append(end_time - start_time)"
   ]
  },
  {
   "cell_type": "code",
   "execution_count": 12,
   "id": "d552fc14",
   "metadata": {},
   "outputs": [
    {
     "name": "stdout",
     "output_type": "stream",
     "text": [
      "╒═══════════════════════╤═══════════════════╤══════════════════════╕\n",
      "│  metryka euklidesowa  │  metryka miejska  │  metryka czebyszewa  │\n",
      "╞═══════════════════════╪═══════════════════╪══════════════════════╡\n",
      "│        1.97113        │      1.97361      │       1.78701        │\n",
      "╘═══════════════════════╧═══════════════════╧══════════════════════╛\n"
     ]
    }
   ],
   "source": [
    "data = [[np.mean(czas_euc), np.mean(czas_cb), np.mean(czas_cheb)]]\n",
    "col_names = [\"metryka euklidesowa\", \"metryka miejska\", 'metryka czebyszewa']\n",
    "print(tabulate(data, headers=col_names, numalign=\"center\", tablefmt=\"fancy_grid\"))"
   ]
  },
  {
   "cell_type": "markdown",
   "id": "101dbe65",
   "metadata": {},
   "source": [
    "## Inteligencja roju (Particle swarm optimization)"
   ]
  },
  {
   "cell_type": "markdown",
   "id": "c6aeea34",
   "metadata": {},
   "source": [
    "Inteligencja roju jest metodą obliczeniową, która optymalizuje problem poprzez iteracyjne próby ulepszenia potencjalnego rozwiązania w odniesieniu do danej miary jakości . Rozwiązuje problem, mając populację potencjalnych rozwiązań, tutaj nazwanych cząstkami, i przesuwając te cząstki w przestrzeni poszukiwań zgodnie z prostym wzorem matematycznym nad położeniem i prędkością cząstki.\n",
    "(https://en.wikipedia.org/wiki/Particle_swarm_optimization)\n",
    "Do uruchomienia tego algorytmu użyjemy paczki PySwarms (https://pyswarms.readthedocs.io/en/latest/index.html).\n",
    "\n",
    "Do rozwiązania naszego problemu użyjemy funkcji BinaryPSO. Potrzebujemy rozwiązania w postaci listy kolejno odwiedzanych miejsc, natomiast ten algorytm zwraca nam listę zer i jedynek. Przekształcimy tę listę w macierz o wymiarze liczby miejsc. Suma wartości w kolejnych wierszach określi nam kolejność odwiedzania miejsc. Następnie odrzucimy rozwiązania zawierające powtórzenia. Niestety, jest to brutalne rozwiązanie i może utrudnić algorytmowi wyszukiwanie rozwiązań. Funkcja dist_func mierzy łączną długość przebytej trasy metryką euklidesową. Tym razem wynik zwracamy bez minusa, ponieważ ten algorytm wyszukuje minimum."
   ]
  },
  {
   "cell_type": "code",
   "execution_count": 13,
   "id": "fac939e2",
   "metadata": {},
   "outputs": [
    {
     "data": {
      "text/plain": [
       "[(23, 40), (20, 49), (1, 19), (10, 37), (45, 25)]"
      ]
     },
     "execution_count": 13,
     "metadata": {},
     "output_type": "execute_result"
    }
   ],
   "source": [
    "n = 5\n",
    "x = [random.randint(0,50) for a in range(n)]\n",
    "y = [random.randint(0,50) for a in range(n)]\n",
    "lokacje = list(zip(x, y))\n",
    "start = (0,0)\n",
    "lokacje"
   ]
  },
  {
   "cell_type": "code",
   "execution_count": 14,
   "id": "ce0d22de",
   "metadata": {},
   "outputs": [],
   "source": [
    "def dist_func(droga):\n",
    "    sol = [int(i) for i in droga]\n",
    "    fit = metryka_euklidesowa(start, np.array((lokacje[sol[0]][0], lokacje[sol[0]][1])))\n",
    "\n",
    "    for i in range(1, len(droga)):\n",
    "        prev = np.array((lokacje[sol[i-1]][0], lokacje[sol[i-1]][1]))\n",
    "        now = np.array((lokacje[sol[i]][0], lokacje[sol[i]][1]))\n",
    "        fit = fit + metryka_euklidesowa(now, prev)\n",
    "    fit = fit + metryka_euklidesowa(now, start)\n",
    "    return fit"
   ]
  },
  {
   "cell_type": "code",
   "execution_count": 15,
   "id": "a5d6bf3b",
   "metadata": {},
   "outputs": [],
   "source": [
    "def f1(solution):\n",
    "    fitnes = 0\n",
    "    for sol in solution:\n",
    "        m = np.array(sol)\n",
    "        m = m.reshape(n, n)\n",
    "        \n",
    "        droga = np.array([])\n",
    "        for i in m:\n",
    "            droga = np.append(droga, sum(i)-1)\n",
    "        \n",
    "        if len(np.unique(droga)) != len(droga) or np.any(droga == -1):\n",
    "            fitness = n**(5)\n",
    "        else:\n",
    "            fitness = dist_func(droga)\n",
    "        \n",
    "    return fitness"
   ]
  },
  {
   "cell_type": "code",
   "execution_count": 16,
   "id": "157381f8",
   "metadata": {},
   "outputs": [
    {
     "name": "stderr",
     "output_type": "stream",
     "text": [
      "2023-04-02 20:36:52,658 - pyswarms.discrete.binary - INFO - Optimize for 1000 iters with {'c1': 0.5, 'c2': 0.3, 'w': 0.9, 'k': 2, 'p': 1}\n",
      "pyswarms.discrete.binary:  40%|█████████████████████████▋                                      |402/1000, best_cost=165\n",
      "2023-04-02 20:37:05,513 - pyswarms.discrete.binary - INFO - Optimization finished | best cost: 165.18927076942936, best pos: [0 0 1 1 1 0 0 1 0 0 1 1 1 1 1 1 1 0 1 0 1 1 0 1 1]\n"
     ]
    },
    {
     "data": {
      "image/png": "[encoded data removed]",
      "text/plain": [
       "<Figure size 720x576 with 1 Axes>"
      ]
     },
     "metadata": {
      "needs_background": "light"
     },
     "output_type": "display_data"
    }
   ],
   "source": [
    "options = {'c1': 0.5, 'c2': 0.3, 'w':0.9, 'k':2, 'p':1}\n",
    "optimizer = ps.discrete.BinaryPSO(n_particles=500, dimensions=n*n, options=options, ftol=1e-3, ftol_iter=350)\n",
    "cost, pos = optimizer.optimize(f1, iters=1000)\n",
    "cost_history = optimizer.cost_history\n",
    "plot_cost_history(cost_history)\n",
    "plt.show()"
   ]
  },
  {
   "cell_type": "markdown",
   "id": "55e807ba",
   "metadata": {},
   "source": [
    "Spróbujemy teraz użyć funkcji GlobalBestPSO. Określimy ograniczenia dla dziedziny, w której szukamy minimum, aby nie dostać indeksu poza granicami. Następnie otrzymane wartości zaokrąglimy do pełnych liczb. Niestety, również tutaj będziemy musieli odrzucić wszystkie rozwiązania z powtórzeniami. Zwracamy łączną długość trasy obliczoną za pomocą funkcji dist_func."
   ]
  },
  {
   "cell_type": "code",
   "execution_count": 17,
   "id": "48899bc8",
   "metadata": {},
   "outputs": [],
   "source": [
    "def f2(solution):\n",
    "    fitnes = 0\n",
    "    for sol in solution:\n",
    "        m = np.array([])\n",
    "        for i in sol:\n",
    "            m = np.append(m, round(i))\n",
    "        \n",
    "        if len(np.unique(m)) != len(m):\n",
    "            fitness = n**(5)\n",
    "        else:\n",
    "            fitness = dist_func(m)\n",
    "            \n",
    "    return fitness"
   ]
  },
  {
   "cell_type": "code",
   "execution_count": 18,
   "id": "35a0e980",
   "metadata": {},
   "outputs": [
    {
     "name": "stderr",
     "output_type": "stream",
     "text": [
      "2023-04-02 20:37:05,727 - pyswarms.single.global_best - INFO - Optimize for 1000 iters with {'c1': 0.5, 'c2': 0.3, 'w': 0.9}\n",
      "pyswarms.single.global_best:  76%|██████████████████████████████████████████████               |755/1000, best_cost=182\n",
      "2023-04-02 20:37:24,705 - pyswarms.single.global_best - INFO - Optimization finished | best cost: 181.55474699692996, best pos: [1.26086075 1.61989056 2.04761351 1.54156492 1.16832668]\n"
     ]
    },
    {
     "data": {
      "image/png": "[encoded data removed]",
      "text/plain": [
       "<Figure size 720x576 with 1 Axes>"
      ]
     },
     "metadata": {
      "needs_background": "light"
     },
     "output_type": "display_data"
    }
   ],
   "source": [
    "x_max = np.full((n), n-1)\n",
    "x_min = np.zeros(n)\n",
    "my_bounds = (x_min, x_max)\n",
    "\n",
    "options = {'c1': 0.5, 'c2': 0.3, 'w':0.9}\n",
    "optimizer = ps.single.GlobalBestPSO(n_particles=500, dimensions=n, bounds=my_bounds, \n",
    "                                    options=options, ftol=1e-3, ftol_iter=350)\n",
    "cost, pos = optimizer.optimize(f2, iters=1000)\n",
    "cost_history = optimizer.cost_history\n",
    "plot_cost_history(cost_history)\n",
    "plt.show()"
   ]
  },
  {
   "cell_type": "markdown",
   "id": "783b2c88",
   "metadata": {},
   "source": [
    "Uruchomimy obydwa algorytmy kilkukrotnie i przyjrzymy się ich najlepszym rozwiązaniom."
   ]
  },
  {
   "cell_type": "code",
   "execution_count": 19,
   "id": "2335053a",
   "metadata": {},
   "outputs": [],
   "source": [
    "rozw1 = []\n",
    "rozw2 = []\n",
    "\n",
    "for i in range(10):\n",
    "    options = {'c1': 0.5, 'c2': 0.3, 'w':0.9, 'k':2, 'p':1}\n",
    "    optimizer = ps.discrete.BinaryPSO(n_particles=500, dimensions=n*n, options=options, ftol=1e-3, ftol_iter=350)\n",
    "    cost, pos = optimizer.optimize(f2, iters=1000, verbose=False)\n",
    "    rozw1.append(pos)\n",
    "    \n",
    "    options = {'c1': 0.5, 'c2': 0.3, 'w':0.9}\n",
    "    optimizer = ps.single.GlobalBestPSO(n_particles=500, dimensions=n, bounds=my_bounds, \n",
    "                                        options=options, ftol=1e-3, ftol_iter=350)\n",
    "    cost, pos = optimizer.optimize(f2, iters=1000, verbose=False)\n",
    "    rozw2.append(pos)"
   ]
  },
  {
   "cell_type": "code",
   "execution_count": 20,
   "id": "550c6bf0",
   "metadata": {},
   "outputs": [
    {
     "name": "stdout",
     "output_type": "stream",
     "text": [
      "Rozwiązania BinaryPSO:\n",
      "[-1.  2.  2.  1.  1.] \t 3\n",
      "[1. 2. 1. 0. 1.] \t 3\n",
      "[3. 1. 3. 1. 2.] \t 3\n",
      "[1. 2. 2. 1. 1.] \t 2\n",
      "[1. 3. 3. 0. 1.] \t 3\n",
      "[2. 1. 1. 1. 2.] \t 2\n",
      "[1. 4. 0. 1. 2.] \t 4\n",
      "[3. 1. 0. 3. 2.] \t 4\n",
      "[2. 2. 1. 3. 1.] \t 3\n",
      "[1. 1. 3. 0. 2.] \t 4\n",
      "Rozwiązania GlobalBestPSO:\n",
      "[1. 3. 3. 0. 3.] \t 3\n",
      "[0. 4. 2. 2. 0.] \t 3\n",
      "[4. 2. 2. 4. 1.] \t 3\n",
      "[3. 3. 2. 2. 1.] \t 3\n",
      "[2. 1. 2. 3. 4.] \t 4\n",
      "[3. 1. 1. 3. 2.] \t 3\n",
      "[1. 4. 2. 2. 1.] \t 3\n",
      "[2. 1. 2. 2. 1.] \t 2\n",
      "[2. 2. 3. 1. 3.] \t 3\n",
      "[1. 1. 2. 2. 1.] \t 2\n"
     ]
    }
   ],
   "source": [
    "print('Rozwiązania BinaryPSO:')\n",
    "for sol in rozw1:\n",
    "        m = np.array(sol)\n",
    "        m = m.reshape(n, n)\n",
    "        \n",
    "        droga = np.array([])\n",
    "        for i in m:\n",
    "            droga = np.append(droga, sum(i)-1)\n",
    "        print(droga, '\\t', len(np.unique(droga)))\n",
    "\n",
    "print('Rozwiązania GlobalBestPSO:')\n",
    "for sol in rozw2:\n",
    "        m = np.array([])\n",
    "        for i in sol:\n",
    "            m = np.append(m, round(i))\n",
    "        print(m, '\\t', len(np.unique(m)))"
   ]
  },
  {
   "cell_type": "markdown",
   "id": "e057bbe2",
   "metadata": {},
   "source": [
    "Możemy zobaczyć, że żadne z rozwiązań nie jest drogą bez powtórzeń, co oznacza, że wszystkie rozwiązania są błędne."
   ]
  },
  {
   "cell_type": "markdown",
   "id": "4fee1ed2",
   "metadata": {},
   "source": [
    "### Praktyczny przykład"
   ]
  },
  {
   "cell_type": "markdown",
   "id": "b2b49e10",
   "metadata": {},
   "source": [
    "Skorzystamy z macierzy ze strony https://developers.google.com/optimization/routing/tsp. Macierz odległości to macierz, której elementy $a_{i,j}$ są odległością od lokalizacji $i$ do lokalizacji $j$ w milach, gdzie indeksy tablicy odpowiadają lokalizacjom w następującej kolejności:\n",
    "0. Nowy Jork - 1. Los Angeles - 2. Chicago - 3. Minneapolis - 4. Denver - 5. Dallas - 6. Seattle - 7. Boston - 8. San Francisco - 9. St. Louis - 10. Houston - 11 Phoenix - 12. Salt Lake City.\n",
    "Kolejność lokalizacji w macierzy odległości jest dowolna i nie ma związku z kolejnością lokalizacji w jakimkolwiek rozwiązaniu problemu. \n",
    "\n",
    "Naszym zadaniem będzie odnalezienie miasta startowego, dla którego trasa przez wszystkie pozostałe miasta i powrót do startu będzie najkrótsza. Użyjemy do tego algorytmu genetycznego. Tutaj nie musimy obliczać odległości pomiędzy poszczególnymi miastami. Zamiast tego musimy zsumować odpowiednie elementy z macierzy. Rozwiązanie przedstawimy na grafie wykonanym za pomocą paczki Graphviz (https://graphviz.readthedocs.io/en/stable/index.html)."
   ]
  },
  {
   "cell_type": "code",
   "execution_count": 21,
   "id": "22aecfd5",
   "metadata": {},
   "outputs": [],
   "source": [
    "mtrx = [[0, 2451, 713, 1018, 1631, 1374, 2408, 213, 2571, 875, 1420, 2145, 1972],\n",
    "        [2451, 0, 1745, 1524, 831, 1240, 959, 2596, 403, 1589, 1374, 357, 579],\n",
    "        [713, 1745, 0, 355, 920, 803, 1737, 851, 1858, 262, 940, 1453, 1260],\n",
    "        [1018, 1524, 355, 0, 700, 862, 1395, 1123, 1584, 466, 1056, 1280, 987],\n",
    "        [1631, 831, 920, 700, 0, 663, 1021, 1769, 949, 796, 879, 586, 371],\n",
    "        [1374, 1240, 803, 862, 663, 0, 1681, 1551, 1765, 547, 225, 887, 999],\n",
    "        [2408, 959, 1737, 1395, 1021, 1681, 0, 2493, 678, 1724, 1891, 1114, 701],\n",
    "        [213, 2596, 851, 1123, 1769, 1551, 2493, 0, 2699, 1038, 1605, 2300, 2099],\n",
    "        [2571, 403, 1858, 1584, 949, 1765, 678, 2699, 0, 1744, 1645, 653, 600],\n",
    "        [875, 1589, 262, 466, 796, 547, 1724, 1038, 1744, 0, 679, 1272, 1162],\n",
    "        [1420, 1374, 940, 1056, 879, 225, 1891, 1605, 1645, 679, 0, 1017, 1200],\n",
    "        [2145, 357, 1453, 1280, 586, 887, 1114, 2300, 653, 1272, 1017, 0, 504],\n",
    "        [1972, 579, 1260, 987, 371, 999, 701, 2099, 600, 1162, 1200, 504, 0]]\n",
    "\n",
    "miasta = ['New York', 'Los Angeles', 'Chicago', 'Minneapolis', 'Denver', 'Dallas', 'Seattle', 'Boston',\n",
    "          'San Francisco', 'St. Louis', 'Houston', 'Phoenix', 'Salt Lake City']"
   ]
  },
  {
   "cell_type": "code",
   "execution_count": 22,
   "id": "eb06eaca",
   "metadata": {},
   "outputs": [],
   "source": [
    "def fitness_usa(solution, solution_idx):\n",
    "    sol = [int(i) for i in solution]\n",
    "    droga = mtrx[start][sol[0]]\n",
    "    for i in range(len(sol)-1):\n",
    "        droga = droga + mtrx[sol[i]][sol[i+1]]\n",
    "    droga = droga + mtrx[sol[-1]][start]\n",
    "    return -droga"
   ]
  },
  {
   "cell_type": "code",
   "execution_count": 23,
   "id": "05f1fbae",
   "metadata": {},
   "outputs": [],
   "source": [
    "rozw = []\n",
    "trasy = []\n",
    "\n",
    "for i in range(len(miasta)):\n",
    "    gs = []\n",
    "    if i > 0:\n",
    "        gs.append([j for j in range(i)])\n",
    "    if i < 12:\n",
    "        gs.append([j for j in range(i+1, len(miasta))])\n",
    "    \n",
    "    gs = [item for sublist in gs for item in sublist]\n",
    "    start = i\n",
    "    \n",
    "    ga_instance = pygad.GA(gene_space = gs,\n",
    "                            num_generations = 300,\n",
    "                            num_parents_mating = 5,\n",
    "                            fitness_func = fitness_usa,\n",
    "                            sol_per_pop = 50,\n",
    "                            num_genes = len(miasta)-1,\n",
    "                            parent_selection_type = \"sss\",\n",
    "                            keep_parents = 2,\n",
    "                            crossover_type = \"single_point\",\n",
    "                            mutation_type='random',\n",
    "                            mutation_num_genes=1,\n",
    "                            allow_duplicate_genes=False,\n",
    "                            stop_criteria='saturate_100')\n",
    "\n",
    "    start_time = time.time()\n",
    "    ga_instance.run()\n",
    "    end_time = time.time()\n",
    "\n",
    "    solution, solution_fitness, solution_idx = ga_instance.best_solution()\n",
    "    rozw.append((-1)*solution_fitness)\n",
    "    trasy.append(solution)"
   ]
  },
  {
   "cell_type": "code",
   "execution_count": 24,
   "id": "370a056a",
   "metadata": {},
   "outputs": [],
   "source": [
    "drogi = trasy[rozw.index(min(rozw))]\n",
    "ind = rozw.index(min(rozw))\n",
    "\n",
    "trasa = np.array([ind])\n",
    "trasa = np.append(trasa, drogi)\n",
    "trasa = np.append(trasa, [ind])\n",
    "trasa = [int(i) for i in trasa]\n",
    "\n",
    "miastanodes = miasta\n",
    "for i in range(len(drogi)):\n",
    "    miastanodes[int(drogi[i])] = str(i+1) + '. ' + miasta[int(drogi[i])]"
   ]
  },
  {
   "cell_type": "code",
   "execution_count": 25,
   "id": "fb7d73d0",
   "metadata": {},
   "outputs": [
    {
     "data": {
      "text/plain": [
       "'usa.pdf'"
      ]
     },
     "execution_count": 25,
     "metadata": {},
     "output_type": "execute_result"
    }
   ],
   "source": [
    "dot = Graph(strict='True')\n",
    "\n",
    "dot.attr(label=r'\\n\\nNajkrótsza znaleziona trasa: '+str(min(rozw))+' mil', fontsize='25')\n",
    "\n",
    "for i in miastanodes:\n",
    "    if i == miastanodes[ind]:\n",
    "        dot.node(i, color='green', style='filled')\n",
    "    else:\n",
    "        dot.node(i)\n",
    "\n",
    "for j in range(len(miastanodes)):\n",
    "    for i in range(j+1, len(miastanodes)):\n",
    "        dot.edge(miastanodes[j], miastanodes[i], label=str(mtrx[i][j]))\n",
    "\n",
    "for k in range(len(trasa)-1):\n",
    "    dot.edge(miastanodes[trasa[k]], miasta[trasa[k+1]], \n",
    "             label=str(mtrx[trasa[k]][trasa[k+1]]), fontcolor='green',\n",
    "             color='green', penwidth='3')\n",
    "\n",
    "dot.render('usa', view=True)"
   ]
  }
 ],
 "metadata": {
  "kernelspec": {
   "display_name": "Python 3 (ipykernel)",
   "language": "python",
   "name": "python3"
  },
  "language_info": {
   "codemirror_mode": {
    "name": "ipython",
    "version": 3
   },
   "file_extension": ".py",
   "mimetype": "text/x-python",
   "name": "python",
   "nbconvert_exporter": "python",
   "pygments_lexer": "ipython3",
   "version": "3.8.8"
  }
 },
 "nbformat": 4,
 "nbformat_minor": 5
}
